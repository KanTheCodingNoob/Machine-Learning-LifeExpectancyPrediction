{
 "cells": [
  {
   "cell_type": "markdown",
   "id": "d488e83a-acc5-4d2f-8258-60f9fcf54c37",
   "metadata": {},
   "source": [
    "<center><h1>s4019548 - Nguyen Khanh An</h1></center>\n",
    "<center><h1>Assignment 1</h1></center>"
   ]
  },
  {
   "cell_type": "code",
   "id": "f915ec68-de63-48f0-9874-22c508fde5be",
   "metadata": {
    "ExecuteTime": {
     "end_time": "2025-03-11T08:25:07.241721Z",
     "start_time": "2025-03-11T08:25:07.236619Z"
    }
   },
   "source": [
    "import pandas as pd\n",
    "import numpy as np\n",
    "import matplotlib.pyplot as plt"
   ],
   "outputs": [],
   "execution_count": 3
  },
  {
   "cell_type": "markdown",
   "id": "8aea3214-bfa4-448d-932e-faa63177d491",
   "metadata": {},
   "source": [
    "## 1. Introduction"
   ]
  },
  {
   "cell_type": "markdown",
   "id": "682bf553-04c0-4756-94d9-59b5787969c0",
   "metadata": {},
   "source": [
    "* ___Purpose:___ The purpose of this project is to analyze the given data and then develop a machine learning model for predicting human life expectancy.\n",
    "* ___Uses:___ A model that can predicts life expectancy will be very useful across multiple fields, notable example include:\n",
    "    * Healthcare: By giving insight into various factors and how these affect life expectancy, resources can be allocated effectively to response to crucial areas that might be negatively affecting humans.\n",
    "    * Insurance: Insurers can use this model to determine appropriate premiums based on the client's attributes.\n",
    "* ___Type of learning___: Based on the given description of the data, this will be a model based on supervised learning and using the regression technique, due to the data being labeled and the goal of the model being that of the prediction of life expectancy values.\n",
    "<h2 style=\"color:red\">Need more elaboration</h2>"
   ]
  },
  {
   "cell_type": "markdown",
   "id": "8744d546-b8ea-44ef-8861-87047523d4e2",
   "metadata": {},
   "source": [
    "## 2. Data Exploration\n"
   ]
  },
  {
   "cell_type": "markdown",
   "id": "77f576b8-247e-4ab4-b0cc-f28980736838",
   "metadata": {},
   "source": "* ___Given data:___ There are two dataset that was given to us, the train dataset and the test dataset. We are going to use the train dataset to develop our model, and after development, we will be using the test dataset to test its accuracy, or rather the total distance between the hypothesis (regression line) and the actual training examples. We are going with the assumption that data splitting procedure has been taken, meaning proper randomization."
  },
  {
   "cell_type": "code",
   "id": "523017af-e4ac-4844-ab05-6f9aa4345d6c",
   "metadata": {
    "ExecuteTime": {
     "end_time": "2025-03-11T08:25:11.988131Z",
     "start_time": "2025-03-11T08:25:11.938345Z"
    }
   },
   "source": [
    "train_data = pd.read_csv('data/train.csv')\n",
    "test_data = pd.read_csv('data/test.csv')"
   ],
   "outputs": [],
   "execution_count": 4
  },
  {
   "metadata": {
    "ExecuteTime": {
     "end_time": "2025-03-11T08:38:11.275181Z",
     "start_time": "2025-03-11T08:38:11.241963Z"
    }
   },
   "cell_type": "code",
   "source": "train_data.info()",
   "id": "7d4e36dea4fc4ae",
   "outputs": [
    {
     "name": "stdout",
     "output_type": "stream",
     "text": [
      "<class 'pandas.core.frame.DataFrame'>\n",
      "RangeIndex: 2071 entries, 0 to 2070\n",
      "Data columns (total 24 columns):\n",
      " #   Column                        Non-Null Count  Dtype  \n",
      "---  ------                        --------------  -----  \n",
      " 0   ID                            2071 non-null   int64  \n",
      " 1   TARGET_LifeExpectancy         2071 non-null   float64\n",
      " 2   Country                       2071 non-null   int64  \n",
      " 3   Year                          2071 non-null   int64  \n",
      " 4   Status                        2071 non-null   int64  \n",
      " 5   AdultMortality                2070 non-null   float64\n",
      " 6   AdultMortality-Male           2071 non-null   int64  \n",
      " 7   AdultMortality-Female         2071 non-null   int64  \n",
      " 8   SLS                           2071 non-null   int64  \n",
      " 9   Alcohol                       2067 non-null   float64\n",
      " 10  PercentageExpenditure         2062 non-null   float64\n",
      " 11  Measles                       2070 non-null   float64\n",
      " 12  BMI                           2063 non-null   float64\n",
      " 13  Under5LS                      2070 non-null   float64\n",
      " 14  Polio                         2070 non-null   float64\n",
      " 15  TotalExpenditure              2061 non-null   float64\n",
      " 16  Diphtheria                    2071 non-null   float64\n",
      " 17  HIV-AIDS                      2068 non-null   float64\n",
      " 18  GDP                           2062 non-null   float64\n",
      " 19  Population                    2063 non-null   float64\n",
      " 20  Thinness1-19years             2070 non-null   float64\n",
      " 21  Thinness5-9years              2070 non-null   float64\n",
      " 22  IncomeCompositionOfResources  2066 non-null   float64\n",
      " 23  Schooling                     2064 non-null   float64\n",
      "dtypes: float64(17), int64(7)\n",
      "memory usage: 388.4 KB\n"
     ]
    }
   ],
   "execution_count": 5
  },
  {
   "metadata": {
    "ExecuteTime": {
     "end_time": "2025-03-11T08:38:38.782318Z",
     "start_time": "2025-03-11T08:38:38.768742Z"
    }
   },
   "cell_type": "code",
   "source": "test_data.info()",
   "id": "7a7f80e22e5be8cb",
   "outputs": [
    {
     "name": "stdout",
     "output_type": "stream",
     "text": [
      "<class 'pandas.core.frame.DataFrame'>\n",
      "RangeIndex: 867 entries, 0 to 866\n",
      "Data columns (total 23 columns):\n",
      " #   Column                        Non-Null Count  Dtype  \n",
      "---  ------                        --------------  -----  \n",
      " 0   ID                            867 non-null    int64  \n",
      " 1   Country                       867 non-null    int64  \n",
      " 2   Year                          867 non-null    int64  \n",
      " 3   Status                        867 non-null    int64  \n",
      " 4   AdultMortality                867 non-null    int64  \n",
      " 5   AdultMortality-Male           867 non-null    int64  \n",
      " 6   AdultMortality-Female         867 non-null    int64  \n",
      " 7   SLS                           867 non-null    int64  \n",
      " 8   Alcohol                       867 non-null    float64\n",
      " 9   PercentageExpenditure         867 non-null    float64\n",
      " 10  Measles                       867 non-null    int64  \n",
      " 11  BMI                           867 non-null    float64\n",
      " 12  Under5LS                      867 non-null    int64  \n",
      " 13  Polio                         867 non-null    float64\n",
      " 14  TotalExpenditure              867 non-null    float64\n",
      " 15  Diphtheria                    867 non-null    int64  \n",
      " 16  HIV-AIDS                      867 non-null    float64\n",
      " 17  GDP                           867 non-null    float64\n",
      " 18  Population                    867 non-null    float64\n",
      " 19  Thinness1-19years             867 non-null    float64\n",
      " 20  Thinness5-9years              867 non-null    float64\n",
      " 21  IncomeCompositionOfResources  867 non-null    float64\n",
      " 22  Schooling                     867 non-null    float64\n",
      "dtypes: float64(12), int64(11)\n",
      "memory usage: 155.9 KB\n"
     ]
    }
   ],
   "execution_count": 6
  },
  {
   "metadata": {},
   "cell_type": "markdown",
   "source": "* ___Data overview:___ As for initial impression goes, there are a total of 24 columns of data. One of which is unusable for the development of the model, the \"ID\" column, since its only purpose is to index the rows of data. Since across these two dataset, only the \"TARGET_LifeExpectancy\" column is not shared, and based on the purpose of this project, this effectively mean that this is the target attributes for the model. We can also see that in the training dataset, there are a total of 2071 entries, but some of the columns entry amount are smaller than the total amount, indicating missing data in the dataset. All the attributes featured in the dataset has numerical values.",
   "id": "6650458416c3ac73"
  },
  {
   "metadata": {},
   "cell_type": "code",
   "outputs": [],
   "execution_count": null,
   "source": "",
   "id": "d1c01c6d50efcc12"
  }
 ],
 "metadata": {
  "kernelspec": {
   "display_name": "Python 3 (ipykernel)",
   "language": "python",
   "name": "python3"
  },
  "language_info": {
   "codemirror_mode": {
    "name": "ipython",
    "version": 3
   },
   "file_extension": ".py",
   "mimetype": "text/x-python",
   "name": "python",
   "nbconvert_exporter": "python",
   "pygments_lexer": "ipython3",
   "version": "3.12.4"
  }
 },
 "nbformat": 4,
 "nbformat_minor": 5
}
