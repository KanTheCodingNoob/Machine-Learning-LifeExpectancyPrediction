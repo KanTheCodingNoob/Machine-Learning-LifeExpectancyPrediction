{
 "cells": [
  {
   "cell_type": "markdown",
   "id": "d488e83a-acc5-4d2f-8258-60f9fcf54c37",
   "metadata": {},
   "source": [
    "<center><h1>s4019548 - Nguyen Khanh An</h1></center>\n",
    "<center><h1>Assignment 1</h1></center>"
   ]
  },
  {
   "cell_type": "code",
   "execution_count": 1,
   "id": "f915ec68-de63-48f0-9874-22c508fde5be",
   "metadata": {},
   "outputs": [],
   "source": [
    "import pandas as pd\n",
    "import numpy as np\n",
    "import matplotlib.pyplot as plt"
   ]
  },
  {
   "cell_type": "markdown",
   "id": "8aea3214-bfa4-448d-932e-faa63177d491",
   "metadata": {},
   "source": [
    "## 1. Introduction"
   ]
  },
  {
   "cell_type": "markdown",
   "id": "682bf553-04c0-4756-94d9-59b5787969c0",
   "metadata": {},
   "source": [
    "* ___Purpose:___ The purpose of this project is to analyze the given data and then develop a machine learning model for predicting human life expectancy.\n",
    "* ___Uses:___ A model that can predicts life expectancy will be very useful across multiple fields, notable example include:\n",
    "    * Healthcare: By giving insight into various factors and how these affect life expectancy, resources can be allocated effectively to response to crucial areas that might be negatively affecting humans.\n",
    "    * Insurance: Insurers can use this model to determine approriate premiums based on the client's attributes.\n",
    "* ___Type of learning___: Based on the given description of the data, this will be a model based on supervised learning and using the regression technique, due to the data being labeled and the goal of the model being that of the prediction of life expectancy values.\n",
    "<h2 style=\"color:red\">Need more elaboration</h2>"
   ]
  },
  {
   "cell_type": "markdown",
   "id": "8744d546-b8ea-44ef-8861-87047523d4e2",
   "metadata": {},
   "source": [
    "## 2. Data Exploration\n"
   ]
  },
  {
   "cell_type": "markdown",
   "id": "77f576b8-247e-4ab4-b0cc-f28980736838",
   "metadata": {},
   "source": [
    "* ___Data:___ There are two dataset that was given to us, the train dataset and the test dataset. We are going to use the train dataset to develop our model, and after development, we will be using the test dataset to test its accuracy, or rather the total distance between the hypothesis (regression line) and the actual training examples. We are going with the assumption that proper data splitting procedure has been taken."
   ]
  },
  {
   "cell_type": "code",
   "execution_count": null,
   "id": "523017af-e4ac-4844-ab05-6f9aa4345d6c",
   "metadata": {},
   "outputs": [],
   "source": []
  }
 ],
 "metadata": {
  "kernelspec": {
   "display_name": "Python 3 (ipykernel)",
   "language": "python",
   "name": "python3"
  },
  "language_info": {
   "codemirror_mode": {
    "name": "ipython",
    "version": 3
   },
   "file_extension": ".py",
   "mimetype": "text/x-python",
   "name": "python",
   "nbconvert_exporter": "python",
   "pygments_lexer": "ipython3",
   "version": "3.12.4"
  }
 },
 "nbformat": 4,
 "nbformat_minor": 5
}
