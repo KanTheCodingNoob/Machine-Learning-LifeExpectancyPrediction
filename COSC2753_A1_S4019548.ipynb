{
 "cells": [
  {
   "cell_type": "markdown",
   "id": "d488e83a-acc5-4d2f-8258-60f9fcf54c37",
   "metadata": {},
   "source": [
    "<center><h1>s4019548 - Nguyen Khanh An</h1></center>\n",
    "<center><h1>Assignment 1</h1></center>"
   ]
  },
  {
   "cell_type": "code",
   "execution_count": 3,
   "id": "ec4793ba-a5a6-433c-a72c-b7173ec6d975",
   "metadata": {},
   "outputs": [
    {
     "name": "stdout",
     "output_type": "stream",
     "text": [
      "Python 3.12.4\n"
     ]
    }
   ],
   "source": [
    "!python --version"
   ]
  },
  {
   "cell_type": "markdown",
   "id": "adf4f5d4-e68c-41d9-b76d-e8cf5d441db3",
   "metadata": {},
   "source": [
    "___This project is running Python 3.12.4___"
   ]
  },
  {
   "cell_type": "markdown",
   "id": "8aea3214-bfa4-448d-932e-faa63177d491",
   "metadata": {},
   "source": [
    "## ___1. Introduction___"
   ]
  },
  {
   "cell_type": "markdown",
   "id": "682bf553-04c0-4756-94d9-59b5787969c0",
   "metadata": {},
   "source": [
    "In today's world, the ability to accurately predict human life expectancy has proven to be an invaluable asset to many industries. This project's goal is to deliver on that potential by developing a machine learning model that intake attribute's data to forecast human life expectancy.\n",
    "\n",
    "The final solution of this project will be integrated into the decision-making process of various fields. For example, healthcare will use it to assist in strategic planning and preventive care initiatives, insurers will use it to refine risk assessment and pricing strategies, and government will be able to host effective health campaigns and allocate resources efficiently.\n",
    "\n",
    "This project will go through the process of the machine learning procedure, which involves:\n",
    "* ___Exploratory Data Analysis:___ Exploring the given data using various techniques to gain further insights.\n",
    "* ___Data Preparation:___ Preprocess the data to be in an appropriate format \n",
    "* ___Short-list promising models:___ Explore different models and short-list the best ones.\n",
    "* ___Fine-tune the system:___  Adjust the hyperparameters of the models for better accuracy.\n",
    "\n",
    "Given the nature of the dataset and the goal of predicting life expectancy, this will be a model built around supervised learning. And since the target variable (life expectancy) is continuous, a regression technique is the most suitable."
   ]
  },
  {
   "cell_type": "markdown",
   "id": "8744d546-b8ea-44ef-8861-87047523d4e2",
   "metadata": {},
   "source": [
    "## ___2. Exploratory Data Analysis___"
   ]
  },
  {
   "cell_type": "markdown",
   "id": "325282e5-5ea0-4f04-9e5c-a00cf7aa4059",
   "metadata": {},
   "source": [
    "In this section we will be performing Exploratory Data Analysis on the given dataset. This will include:\n",
    "* Get the data\n",
    "* Explore the data\n",
    "* Prepare the data\n",
    "\n",
    "All these process's purpose is to give a comprehensive view of the dataset, so that we can identify patterns, detect anomalies, and extract meaningful insights to inform future modeling and decision-making processes.\n",
    "\n",
    "We will primary using these libraries to assist us with the EDA process:"
   ]
  },
  {
   "cell_type": "code",
   "execution_count": 38,
   "id": "f915ec68-de63-48f0-9874-22c508fde5be",
   "metadata": {
    "jupyter": {
     "is_executing": true
    }
   },
   "outputs": [],
   "source": [
    "import numpy as np\n",
    "import pandas as pd\n",
    "import matplotlib.pyplot as plt"
   ]
  },
  {
   "cell_type": "code",
   "execution_count": 10,
   "id": "9a647762-8b6a-4b37-a868-30987319075e",
   "metadata": {},
   "outputs": [],
   "source": [
    "pd.set_option('display.max_columns', None)"
   ]
  },
  {
   "cell_type": "code",
   "execution_count": 11,
   "id": "ee0240a3-57c5-4e17-a2ca-c96631315849",
   "metadata": {},
   "outputs": [
    {
     "name": "stdout",
     "output_type": "stream",
     "text": [
      "Numpy version:  1.26.4\n",
      "Pandas version:  2.2.2\n",
      "Matplotlib version: 3.8.4\n"
     ]
    }
   ],
   "source": [
    "print(\"Numpy version: \", np.__version__)\n",
    "print(\"Pandas version: \", pd.__version__)\n",
    "print(\"Matplotlib version:\", plt.__version__)"
   ]
  },
  {
   "cell_type": "markdown",
   "id": "19052643-b4bd-4b27-8f5c-a848542a5d01",
   "metadata": {},
   "source": [
    "* ___Numpy (1.26.4):___ A library for numerical computing in Python, supporting the creation and manipulation of large, multi-dimensional arrays and matrices, along with mathematical functions to operate on those arrays.\n",
    "* ___Pandas (2.2.2):___ A data manipulation and analysis library built on top of NumPy, offering data structure like Series (one-dimensional) and DataFrame (two-dimensional) which are invaluable for handing and analyzing structured data, along with tools for data cleaning, aggregation, filtering and visualization. \n",
    "* ___Matplotlib (3.8.4):___ A data visualization library in Python, allowing users to create a variety of plots, such as line charts, bar graphs, scatter plots and histograms."
   ]
  },
  {
   "cell_type": "markdown",
   "id": "fcc9bfba-f59c-4a02-a35a-904b45bbc411",
   "metadata": {},
   "source": [
    "### ___2.1. Get the data___"
   ]
  },
  {
   "cell_type": "markdown",
   "id": "d4577795-5f92-41f2-b628-bab8f6b81cef",
   "metadata": {},
   "source": [
    "First, we will retrieve the datasets, which currently reside in two csv files, the `train.csv` and `test.csv` by using Pandas `read_csv()` command, which will load the input files into a Pandas `DataFrame`."
   ]
  },
  {
   "cell_type": "code",
   "execution_count": 15,
   "id": "523017af-e4ac-4844-ab05-6f9aa4345d6c",
   "metadata": {
    "ExecuteTime": {
     "end_time": "2025-03-11T08:25:11.988131Z",
     "start_time": "2025-03-11T08:25:11.938345Z"
    }
   },
   "outputs": [],
   "source": [
    "train_data = pd.read_csv('data/train.csv')\n",
    "test_data = pd.read_csv('data/test.csv')"
   ]
  },
  {
   "attachments": {},
   "cell_type": "markdown",
   "id": "0bf74bf6-e759-4917-b996-574368cfb5e3",
   "metadata": {},
   "source": [
    "* ___Given data:___ There are two dataframe that we are going to be using, `train_data` and `test_data`, which are the train dataset and the test dataset respectively. The train dataset will be used for model development, and the test dataset will be use for the model to predict the target attribute, human life expectancy, based on the attribute of the test dataset. We are going with the assumption that data splitting procedure has been taken, meaning proper randomization."
   ]
  },
  {
   "cell_type": "markdown",
   "id": "f7819bc1-cb06-4046-acaa-a2ac229e7175",
   "metadata": {},
   "source": [
    "### ___2.2. Explore the data___"
   ]
  },
  {
   "cell_type": "markdown",
   "id": "549b83c4-7117-42e8-ba5f-77db02871ba3",
   "metadata": {},
   "source": [
    "### ___2.2.1. Data overview___"
   ]
  },
  {
   "cell_type": "markdown",
   "id": "897e205d-67aa-4798-8c13-550884b5ad04",
   "metadata": {},
   "source": [
    "Now that the data is here in form of `DataFrame`, we are now going to explore the data through various techniques such as descriptive statistics, data visualization, and correlation analysis."
   ]
  },
  {
   "cell_type": "code",
   "execution_count": 20,
   "id": "7d4e36dea4fc4ae",
   "metadata": {
    "ExecuteTime": {
     "end_time": "2025-03-11T08:38:11.275181Z",
     "start_time": "2025-03-11T08:38:11.241963Z"
    }
   },
   "outputs": [
    {
     "name": "stdout",
     "output_type": "stream",
     "text": [
      "<class 'pandas.core.frame.DataFrame'>\n",
      "RangeIndex: 2071 entries, 0 to 2070\n",
      "Data columns (total 24 columns):\n",
      " #   Column                        Non-Null Count  Dtype  \n",
      "---  ------                        --------------  -----  \n",
      " 0   ID                            2071 non-null   int64  \n",
      " 1   TARGET_LifeExpectancy         2071 non-null   float64\n",
      " 2   Country                       2071 non-null   int64  \n",
      " 3   Year                          2071 non-null   int64  \n",
      " 4   Status                        2071 non-null   int64  \n",
      " 5   AdultMortality                2070 non-null   float64\n",
      " 6   AdultMortality-Male           2071 non-null   int64  \n",
      " 7   AdultMortality-Female         2071 non-null   int64  \n",
      " 8   SLS                           2071 non-null   int64  \n",
      " 9   Alcohol                       2067 non-null   float64\n",
      " 10  PercentageExpenditure         2062 non-null   float64\n",
      " 11  Measles                       2070 non-null   float64\n",
      " 12  BMI                           2063 non-null   float64\n",
      " 13  Under5LS                      2070 non-null   float64\n",
      " 14  Polio                         2070 non-null   float64\n",
      " 15  TotalExpenditure              2061 non-null   float64\n",
      " 16  Diphtheria                    2071 non-null   float64\n",
      " 17  HIV-AIDS                      2068 non-null   float64\n",
      " 18  GDP                           2062 non-null   float64\n",
      " 19  Population                    2063 non-null   float64\n",
      " 20  Thinness1-19years             2070 non-null   float64\n",
      " 21  Thinness5-9years              2070 non-null   float64\n",
      " 22  IncomeCompositionOfResources  2066 non-null   float64\n",
      " 23  Schooling                     2064 non-null   float64\n",
      "dtypes: float64(17), int64(7)\n",
      "memory usage: 388.4 KB\n"
     ]
    }
   ],
   "source": [
    "train_data.info()"
   ]
  },
  {
   "cell_type": "code",
   "execution_count": 21,
   "id": "fa7526cb-a126-478e-9e82-aee72aba211d",
   "metadata": {},
   "outputs": [
    {
     "data": {
      "text/html": [
       "<div>\n",
       "<style scoped>\n",
       "    .dataframe tbody tr th:only-of-type {\n",
       "        vertical-align: middle;\n",
       "    }\n",
       "\n",
       "    .dataframe tbody tr th {\n",
       "        vertical-align: top;\n",
       "    }\n",
       "\n",
       "    .dataframe thead th {\n",
       "        text-align: right;\n",
       "    }\n",
       "</style>\n",
       "<table border=\"1\" class=\"dataframe\">\n",
       "  <thead>\n",
       "    <tr style=\"text-align: right;\">\n",
       "      <th></th>\n",
       "      <th>ID</th>\n",
       "      <th>TARGET_LifeExpectancy</th>\n",
       "      <th>Country</th>\n",
       "      <th>Year</th>\n",
       "      <th>Status</th>\n",
       "      <th>AdultMortality</th>\n",
       "      <th>AdultMortality-Male</th>\n",
       "      <th>AdultMortality-Female</th>\n",
       "      <th>SLS</th>\n",
       "      <th>Alcohol</th>\n",
       "      <th>PercentageExpenditure</th>\n",
       "      <th>Measles</th>\n",
       "      <th>BMI</th>\n",
       "      <th>Under5LS</th>\n",
       "      <th>Polio</th>\n",
       "      <th>TotalExpenditure</th>\n",
       "      <th>Diphtheria</th>\n",
       "      <th>HIV-AIDS</th>\n",
       "      <th>GDP</th>\n",
       "      <th>Population</th>\n",
       "      <th>Thinness1-19years</th>\n",
       "      <th>Thinness5-9years</th>\n",
       "      <th>IncomeCompositionOfResources</th>\n",
       "      <th>Schooling</th>\n",
       "    </tr>\n",
       "  </thead>\n",
       "  <tbody>\n",
       "    <tr>\n",
       "      <th>0</th>\n",
       "      <td>1</td>\n",
       "      <td>67.1</td>\n",
       "      <td>146</td>\n",
       "      <td>2017</td>\n",
       "      <td>0</td>\n",
       "      <td>263.0</td>\n",
       "      <td>262</td>\n",
       "      <td>264</td>\n",
       "      <td>62</td>\n",
       "      <td>0.01</td>\n",
       "      <td>71.279624</td>\n",
       "      <td>1154.0</td>\n",
       "      <td>19.1</td>\n",
       "      <td>83.0</td>\n",
       "      <td>6.0</td>\n",
       "      <td>8.16</td>\n",
       "      <td>65.0</td>\n",
       "      <td>0.1</td>\n",
       "      <td>654.37</td>\n",
       "      <td>33736494.0</td>\n",
       "      <td>17.2</td>\n",
       "      <td>17.3</td>\n",
       "      <td>0.479</td>\n",
       "      <td>3.178050</td>\n",
       "    </tr>\n",
       "    <tr>\n",
       "      <th>1</th>\n",
       "      <td>2</td>\n",
       "      <td>59.8</td>\n",
       "      <td>146</td>\n",
       "      <td>2016</td>\n",
       "      <td>0</td>\n",
       "      <td>271.0</td>\n",
       "      <td>278</td>\n",
       "      <td>264</td>\n",
       "      <td>64</td>\n",
       "      <td>0.01</td>\n",
       "      <td>73.523582</td>\n",
       "      <td>492.0</td>\n",
       "      <td>18.6</td>\n",
       "      <td>86.0</td>\n",
       "      <td>58.0</td>\n",
       "      <td>8.18</td>\n",
       "      <td>62.0</td>\n",
       "      <td>0.1</td>\n",
       "      <td>686.22</td>\n",
       "      <td>327582.0</td>\n",
       "      <td>17.5</td>\n",
       "      <td>17.5</td>\n",
       "      <td>0.476</td>\n",
       "      <td>3.162278</td>\n",
       "    </tr>\n",
       "    <tr>\n",
       "      <th>2</th>\n",
       "      <td>3</td>\n",
       "      <td>57.6</td>\n",
       "      <td>146</td>\n",
       "      <td>2015</td>\n",
       "      <td>0</td>\n",
       "      <td>268.0</td>\n",
       "      <td>246</td>\n",
       "      <td>290</td>\n",
       "      <td>66</td>\n",
       "      <td>0.01</td>\n",
       "      <td>73.219243</td>\n",
       "      <td>430.0</td>\n",
       "      <td>18.1</td>\n",
       "      <td>89.0</td>\n",
       "      <td>62.0</td>\n",
       "      <td>8.13</td>\n",
       "      <td>64.0</td>\n",
       "      <td>0.1</td>\n",
       "      <td>707.55</td>\n",
       "      <td>31731688.0</td>\n",
       "      <td>17.7</td>\n",
       "      <td>17.7</td>\n",
       "      <td>0.470</td>\n",
       "      <td>3.146427</td>\n",
       "    </tr>\n",
       "    <tr>\n",
       "      <th>3</th>\n",
       "      <td>4</td>\n",
       "      <td>55.5</td>\n",
       "      <td>146</td>\n",
       "      <td>2014</td>\n",
       "      <td>0</td>\n",
       "      <td>272.0</td>\n",
       "      <td>248</td>\n",
       "      <td>296</td>\n",
       "      <td>69</td>\n",
       "      <td>0.01</td>\n",
       "      <td>78.184215</td>\n",
       "      <td>2787.0</td>\n",
       "      <td>17.6</td>\n",
       "      <td>93.0</td>\n",
       "      <td>67.0</td>\n",
       "      <td>8.52</td>\n",
       "      <td>67.0</td>\n",
       "      <td>0.1</td>\n",
       "      <td>750.35</td>\n",
       "      <td>3696958.0</td>\n",
       "      <td>17.9</td>\n",
       "      <td>18.0</td>\n",
       "      <td>0.463</td>\n",
       "      <td>3.130495</td>\n",
       "    </tr>\n",
       "    <tr>\n",
       "      <th>4</th>\n",
       "      <td>5</td>\n",
       "      <td>57.7</td>\n",
       "      <td>146</td>\n",
       "      <td>2013</td>\n",
       "      <td>0</td>\n",
       "      <td>275.0</td>\n",
       "      <td>278</td>\n",
       "      <td>272</td>\n",
       "      <td>71</td>\n",
       "      <td>0.01</td>\n",
       "      <td>7.097109</td>\n",
       "      <td>3013.0</td>\n",
       "      <td>17.2</td>\n",
       "      <td>97.0</td>\n",
       "      <td>68.0</td>\n",
       "      <td>7.87</td>\n",
       "      <td>68.0</td>\n",
       "      <td>0.1</td>\n",
       "      <td>71.16</td>\n",
       "      <td>2978599.0</td>\n",
       "      <td>18.2</td>\n",
       "      <td>18.2</td>\n",
       "      <td>0.454</td>\n",
       "      <td>3.082207</td>\n",
       "    </tr>\n",
       "  </tbody>\n",
       "</table>\n",
       "</div>"
      ],
      "text/plain": [
       "   ID  TARGET_LifeExpectancy  Country  Year  Status  AdultMortality  \\\n",
       "0   1                   67.1      146  2017       0           263.0   \n",
       "1   2                   59.8      146  2016       0           271.0   \n",
       "2   3                   57.6      146  2015       0           268.0   \n",
       "3   4                   55.5      146  2014       0           272.0   \n",
       "4   5                   57.7      146  2013       0           275.0   \n",
       "\n",
       "   AdultMortality-Male  AdultMortality-Female  SLS  Alcohol  \\\n",
       "0                  262                    264   62     0.01   \n",
       "1                  278                    264   64     0.01   \n",
       "2                  246                    290   66     0.01   \n",
       "3                  248                    296   69     0.01   \n",
       "4                  278                    272   71     0.01   \n",
       "\n",
       "   PercentageExpenditure  Measles   BMI  Under5LS  Polio  TotalExpenditure  \\\n",
       "0              71.279624   1154.0  19.1      83.0    6.0              8.16   \n",
       "1              73.523582    492.0  18.6      86.0   58.0              8.18   \n",
       "2              73.219243    430.0  18.1      89.0   62.0              8.13   \n",
       "3              78.184215   2787.0  17.6      93.0   67.0              8.52   \n",
       "4               7.097109   3013.0  17.2      97.0   68.0              7.87   \n",
       "\n",
       "   Diphtheria  HIV-AIDS     GDP  Population  Thinness1-19years  \\\n",
       "0        65.0       0.1  654.37  33736494.0               17.2   \n",
       "1        62.0       0.1  686.22    327582.0               17.5   \n",
       "2        64.0       0.1  707.55  31731688.0               17.7   \n",
       "3        67.0       0.1  750.35   3696958.0               17.9   \n",
       "4        68.0       0.1   71.16   2978599.0               18.2   \n",
       "\n",
       "   Thinness5-9years  IncomeCompositionOfResources  Schooling  \n",
       "0              17.3                         0.479   3.178050  \n",
       "1              17.5                         0.476   3.162278  \n",
       "2              17.7                         0.470   3.146427  \n",
       "3              18.0                         0.463   3.130495  \n",
       "4              18.2                         0.454   3.082207  "
      ]
     },
     "execution_count": 21,
     "metadata": {},
     "output_type": "execute_result"
    }
   ],
   "source": [
    "train_data.head()"
   ]
  },
  {
   "cell_type": "markdown",
   "id": "6650458416c3ac73",
   "metadata": {},
   "source": [
    "As for initial impression goes, there are a total of 24 columns of data. One of which is unusable for the development of the model, the \"ID\" column, since its only purpose is to index the rows of data. Since  the `\"TARGET_LifeExpectancy\"` column is clearly labeled as `\"TARGET\"`, and based on the purpose of this project, this effectively mean that this is the target attributes for the model. Although all the attributes are represented as numerical values, it does not mean that they all represent continuous numerical quantities; some attributes may use numbers for other purposes, such as indexing, categorical labeling, or representing boolean values. Not accounting for this when in the data preparation process will significantly hinder the accuracy of the model.\n",
    "\n",
    "These are the attributes that we are going to work with and their description:\n",
    "\n",
    "* ___TARGET-LifeExpectancy:___ Life Expectancy in age (years)\n",
    "* ___Country:___ Index of Country\n",
    "* ___Year:___ Year\n",
    "* ___Status:___ Developed or Developing status (0, 1)\n",
    "* ___AdultMortality:___ Adult Mortality Rates of both sexes (probability of dying between 15 and 60 years per 1000 population)\n",
    "* ___AdultMortality-Female:___ Adult Mortality Rates of Female (probability of dying between 15 and 60 years per 1000 population)\n",
    "* ___AdultMortality-Male:___ Adult Mortality Rates of Male (probability of dying between 15 and 60 years per 1000 population)\n",
    "* ___SLS:___ Number of Short Life Span per 1000 population\n",
    "* ___Alcohol:___ Alcohol, recorded per capita (15+) consumption (in litres of pure alcohol)\n",
    "* ___PercentageExpenditure:___ Expenditure on health as a percentage of Gross Domestic Product per capita(%)\n",
    "* ___Measles:___ Measles - number of reported cases per 1000 population\n",
    "* ___BMI:___ Average Body Mass Index of entire population\n",
    "* ___Under5LS:___ Number of under-five Life Span per 1000 population\n",
    "* ___Polio:___ Polio (Pol3) immunization coverage among 1-year-olds (%)\n",
    "* ___TotalExpenditure:___ General government expenditure on health as a percentage of total government expenditure (%)\n",
    "* ___Diphtheria:___ Diphtheria tetanus toxoid and pertussis (DTP3) immunization coverage among 1-year-olds (%)\n",
    "* ___HIV-AIDS:___ Factor indicating between 0-4 years life span per 1000 HIV/AIDS \n",
    "* ___GDP:___ Gross Domestic Product per capita (in USD)\n",
    "* ___Population:___ Population of the country\n",
    "* ___Thinness1-19years:___ Prevalence of thinness among children and adolescents for Age 10 to 19 (% )\n",
    "* ___Thinness5-9years:___ Prevalence of thinness among children for Age 5 to 9(%)\n",
    "* ___IncomeCompositionOfResources:___ Human Development Index in terms of income composition of resources (index ranging from 0 to 1)\n",
    "* ___Schooling:___ Schooling indicator"
   ]
  },
  {
   "cell_type": "markdown",
   "id": "24f893b1-9434-4015-be47-e2a97748b080",
   "metadata": {},
   "source": [
    "As I review all of the attribute, I notice that some of the names are either confusing or are written incorrectly:\n",
    "* ___TARGET-LifeExpectancy:___ The \"TARGET\" moniker might cause some confusion when not considering the context of machine learning.\n",
    "* ___Thinness1-19years:___ This attribute measures the prevalence of thinness among age 10 to 19, and yet it is written as 1-19.\n",
    "\n",
    "So we will be changing \"TARGET-LifeExpectancy\" to \"LifeExpectancy\" and \"Thinness1-19years\" to \"Thinness10-19years\" for accuracy and clarity purposes."
   ]
  },
  {
   "cell_type": "code",
   "execution_count": 24,
   "id": "393fe10d-6b71-461e-a198-09f27751df5e",
   "metadata": {},
   "outputs": [],
   "source": [
    "train_data = train_data.rename(columns={\"TARGET_LifeExpectancy\": \"LifeExpectancy\",\n",
    "                 \"Thinness1-19years\": \"Thinness10-19years\"})"
   ]
  },
  {
   "cell_type": "code",
   "execution_count": 25,
   "id": "89b23777-9c28-446b-9ea4-32931ecbbbcd",
   "metadata": {},
   "outputs": [
    {
     "name": "stdout",
     "output_type": "stream",
     "text": [
      "ID                              0.00\n",
      "LifeExpectancy                  0.00\n",
      "Country                         0.00\n",
      "Year                            0.00\n",
      "Status                          0.00\n",
      "AdultMortality                  0.05\n",
      "AdultMortality-Male             0.00\n",
      "AdultMortality-Female           0.00\n",
      "SLS                             0.00\n",
      "Alcohol                         0.19\n",
      "PercentageExpenditure           0.43\n",
      "Measles                         0.05\n",
      "BMI                             0.39\n",
      "Under5LS                        0.05\n",
      "Polio                           0.05\n",
      "TotalExpenditure                0.48\n",
      "Diphtheria                      0.00\n",
      "HIV-AIDS                        0.14\n",
      "GDP                             0.43\n",
      "Population                      0.39\n",
      "Thinness10-19years              0.05\n",
      "Thinness5-9years                0.05\n",
      "IncomeCompositionOfResources    0.24\n",
      "Schooling                       0.34\n",
      "dtype: float64\n"
     ]
    }
   ],
   "source": [
    "missing_data = (train_data.isnull().mean() * 100).round(2)\n",
    "print(missing_data)"
   ]
  },
  {
   "cell_type": "code",
   "execution_count": 26,
   "id": "2ec884d3-5262-47de-a427-132d4388b5b8",
   "metadata": {},
   "outputs": [
    {
     "name": "stdout",
     "output_type": "stream",
     "text": [
      "Amount of columns containing null value: 15\n"
     ]
    }
   ],
   "source": [
    "print(\"Amount of columns containing null value:\", train_data.isnull().any().sum())"
   ]
  },
  {
   "cell_type": "markdown",
   "id": "19e63572-60d9-4fb2-8eec-d675901ae0ed",
   "metadata": {},
   "source": [
    "* ___Missing data statistics:___ There are a total of 15 columns containing N/A values, most of them has the percentage of missing values below 1%."
   ]
  },
  {
   "cell_type": "code",
   "execution_count": 28,
   "id": "e07b3078-2548-41c6-8a16-3472af6ca85d",
   "metadata": {},
   "outputs": [
    {
     "data": {
      "text/plain": [
       "Index(['AdultMortality', 'Alcohol', 'PercentageExpenditure', 'Measles', 'BMI',\n",
       "       'Under5LS', 'Polio', 'TotalExpenditure', 'HIV-AIDS', 'GDP',\n",
       "       'Population', 'Thinness10-19years', 'Thinness5-9years',\n",
       "       'IncomeCompositionOfResources', 'Schooling'],\n",
       "      dtype='object')"
      ]
     },
     "execution_count": 28,
     "metadata": {},
     "output_type": "execute_result"
    }
   ],
   "source": [
    "missing_data[missing_data > 0].index"
   ]
  },
  {
   "cell_type": "markdown",
   "id": "fd0fa1e2-97f6-4f26-86d2-c4beac44f63d",
   "metadata": {},
   "source": [
    "* ___Column containing missing data:___ 'AdultMortality', 'Alcohol', 'PercentageExpenditure', 'Measles', 'BMI',\n",
    "       'Under5LS', 'Polio', 'TotalExpenditure', 'HIV-AIDS', 'GDP',\n",
    "       'Population', 'Thinness10-19years', 'Thinness5-9years',\n",
    "       'IncomeCompositionOfResources', 'Schooling'."
   ]
  },
  {
   "cell_type": "markdown",
   "id": "850bfc6a-58fc-4a30-beb4-2e81a09227dc",
   "metadata": {},
   "source": [
    "### ___2.2.2. Feature understanding___"
   ]
  },
  {
   "cell_type": "markdown",
   "id": "30c6a6f7-a3fb-4568-b9b3-7dfb649e2c8d",
   "metadata": {},
   "source": [
    "Before we do anything, we are going to drop the \"ID\" attribute as it will not be useful for data analysis and model training further down the line."
   ]
  },
  {
   "cell_type": "code",
   "execution_count": 32,
   "id": "4ae9ecb3-7b75-48f3-9ec0-243c04a4c6d2",
   "metadata": {},
   "outputs": [],
   "source": [
    "train_data = train_data.drop(columns={\"ID\"})"
   ]
  },
  {
   "cell_type": "markdown",
   "id": "21df6846-17b8-4b7e-a834-7d122321e902",
   "metadata": {},
   "source": [
    "Next, we will proceed to create histagrams and box plots for every attributes for distribution analysis."
   ]
  },
  {
   "cell_type": "code",
   "execution_count": 69,
   "id": "27dfe868-8b63-4b1e-ac91-8691e3056e2c",
   "metadata": {},
   "outputs": [
    {
     "data": {
      "text/plain": [
       "<Axes: >"
      ]
     },
     "execution_count": 69,
     "metadata": {},
     "output_type": "execute_result"
    },
    {
     "data": {
      "image/png": "[encoded data removed]",
      "text/plain": [
       "<Figure size 640x480 with 1 Axes>"
      ]
     },
     "metadata": {},
     "output_type": "display_data"
    }
   ],
   "source": [
    "train_data[\"LifeExpectancy\"].hist(bins=50)"
   ]
  },
  {
   "cell_type": "markdown",
   "id": "06ad4bdd-9ceb-4ac9-98a8-10ef913a0255",
   "metadata": {},
   "source": [
    "* ___LifeExpectancy:___\n",
    "    * Type: Continuous Variables\n",
    "    * The target attributes follow a Gaussian distribution, though slightly skewed to the right, indicating a slightly higher than average life expectancy values."
   ]
  },
  {
   "cell_type": "code",
   "execution_count": 75,
   "id": "770e8b78-14fa-4428-ace3-b344f1154318",
   "metadata": {},
   "outputs": [
    {
     "data": {
      "text/plain": [
       "<Axes: >"
      ]
     },
     "execution_count": 75,
     "metadata": {},
     "output_type": "execute_result"
    },
    {
     "data": {
      "image/png": "[encoded data removed]",
      "text/plain": [
       "<Figure size 640x480 with 1 Axes>"
      ]
     },
     "metadata": {},
     "output_type": "display_data"
    }
   ],
   "source": [
    "train_data[\"Country\"].hist(bins=200)"
   ]
  },
  {
   "cell_type": "markdown",
   "id": "5c40815b-a9ef-440b-980a-0bfd4fbca05e",
   "metadata": {},
   "source": [
    "* ___Country:___\n",
    "    * Type: Nominal Variables\n",
    "    * This attribute have a uniform distribution.\n",
    "* ___Year:___\n",
    "    * Type: "
   ]
  },
  {
   "cell_type": "code",
   "execution_count": null,
   "id": "95bb8afb-c4c5-45d4-ba54-e36c0e91a4c5",
   "metadata": {},
   "outputs": [],
   "source": [
    "train_data[\"Country\"].value_counts()"
   ]
  },
  {
   "cell_type": "code",
   "execution_count": null,
   "id": "5b014a06-2a56-4c1d-9475-08409c7012a5",
   "metadata": {},
   "outputs": [],
   "source": []
  }
 ],
 "metadata": {
  "kernelspec": {
   "display_name": "Python 3 (ipykernel)",
   "language": "python",
   "name": "python3"
  },
  "language_info": {
   "codemirror_mode": {
    "name": "ipython",
    "version": 3
   },
   "file_extension": ".py",
   "mimetype": "text/x-python",
   "name": "python",
   "nbconvert_exporter": "python",
   "pygments_lexer": "ipython3",
   "version": "3.12.4"
  }
 },
 "nbformat": 4,
 "nbformat_minor": 5
}
